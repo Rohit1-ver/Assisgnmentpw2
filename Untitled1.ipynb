{
  "nbformat": 4,
  "nbformat_minor": 0,
  "metadata": {
    "colab": {
      "provenance": []
    },
    "kernelspec": {
      "name": "python3",
      "display_name": "Python 3"
    },
    "language_info": {
      "name": "python"
    }
  },
  "cells": [
    {
      "cell_type": "markdown",
      "source": [
        "1. What are data structures, and why are they important?"
      ],
      "metadata": {
        "id": "kqaCqJvVz72Y"
      }
    },
    {
      "cell_type": "markdown",
      "source": [
        "Ans.Data structures are specialized formats used to organize, store, and manage data efficiently in computing. They are essential because they determine how data is accessed and modified, which directly impacts the performance of software applications. Common types of data structures include arrays, linked lists, stacks, queues, trees, graphs, and hash tables. Each has unique properties and use cases, making them suitable for specific types of problems. For example, arrays provide fast access by index, while hash tables offer quick data retrieval using keys. The importance of data structures lies in their ability to improve algorithm efficiency, optimize memory usage, and enable scalable and organized data handling. Mastering data structures is fundamental for solving complex computational problems and building effective software systems."
      ],
      "metadata": {
        "id": "FeqBMIjh0Ct1"
      }
    },
    {
      "cell_type": "markdown",
      "source": [
        "2.Explain the difference between mutable and immutable data types with examples?\n",
        "\n",
        "\n",
        "\n",
        "\n",
        "\n",
        "\n",
        "\n"
      ],
      "metadata": {
        "id": "qSljJ40v0IFs"
      }
    },
    {
      "cell_type": "markdown",
      "source": [
        "Ans. Mutable data types allow modifications; their contents can be altered without changing their identity. For example, lists in Python are mutable—you can add, remove, or change elements in a list after it's created. On the other hand, immutable data types cannot be changed once created. If you try to modify them, a new object is created instead. Strings and tuples in Python are common examples of immutable types. For instance, modifying a string actually creates a new string object, leaving the original unchanged. Understanding the difference is important for writing efficient and bug-free code, especially when working with collections or passing data between functions."
      ],
      "metadata": {
        "id": "1TemQgzB0jg7"
      }
    },
    {
      "cell_type": "markdown",
      "source": [
        "3.What are the main differences between lists and tuples in Python?"
      ],
      "metadata": {
        "id": "n61qNvUo0z2O"
      }
    },
    {
      "cell_type": "markdown",
      "source": [
        "Ans. Difference between lists and tuples lies in their mutability. Lists are mutable, meaning their elements can be changed, added, or removed after the list is created. This makes lists suitable for collections of items that may need to be modified over time. In contrast, tuples are immutable, which means once a tuple is created, its contents cannot be changed. This immutability makes tuples more memory-efficient and suitable for fixed collections of items, such as coordinates or constant values. Additionally, tuples can be used as keys in dictionaries due to their immutability, whereas lists cannot. While both support indexing, slicing, and iteration, their mutability is the key factor that influences how and where each should be used."
      ],
      "metadata": {
        "id": "xrgImG_70_P7"
      }
    },
    {
      "cell_type": "markdown",
      "source": [
        "4.Describe how dictionaries store data."
      ],
      "metadata": {
        "id": "91oCQdtx1HlO"
      }
    },
    {
      "cell_type": "markdown",
      "source": [
        "Ans. Dictionaries in Python store data using a structure called key-value pairs, where each unique key maps to a specific value. Internally, dictionaries use a hash table to manage and retrieve data efficiently. When you create a dictionary entry, Python computes a hash of the key using a hash function, which determines where in memory the value will be stored. This allows for *ast lookups, insertions, and deletions—typically in constant time, O(1), on average.Each key in a dictionary must be **immutable** (like strings, numbers, or tuples), ensuring that its hash value remains constant. Values, on the other hand, can be of any data type, mutable or immutable. For example, you could map a string (key) to a list (value) or an integer (key) to a string (value).Dictionaries are incredibly useful for organizing and retrieving data where a meaningful label or identifier is more useful than a numerical index—like storing student records by ID, or product prices by name. Overall, their structure and speed make them a fundamental and powerful part of Python’s data handling tool"
      ],
      "metadata": {
        "id": "6M3NPoz31h06"
      }
    },
    {
      "cell_type": "markdown",
      "source": [
        "5. Why might you use a set instead of a list in Python?"
      ],
      "metadata": {
        "id": "XmlAxF_v2G92"
      }
    },
    {
      "cell_type": "markdown",
      "source": [
        "Ans. We might use a set instead of a list in Python when we need to store a collection of unique elements and perform operations like membership testing, unions, intersections, or differences efficiently. Unlike lists, sets automatically remove duplicate values, which is helpful when we want to ensure all items are distinct without extra effort. Sets also offer faster membership checks compared to lists, especially when working with large datasets. However, since sets are unordered and do not support indexing or slicing, they aren’t suitable when we need to maintain the order of elements or access them by position. Overall, sets are a great choice when we prioritize uniqueness and performance over order.\n",
        "\n",
        "\n",
        "\n",
        "\n",
        "\n",
        "\n",
        "\n",
        "\n"
      ],
      "metadata": {
        "id": "aYdEgjtP2jTG"
      }
    },
    {
      "cell_type": "markdown",
      "source": [
        "6. What is a string in Python, and how is it different from a list?"
      ],
      "metadata": {
        "id": "VSXWjtZp2mFL"
      }
    },
    {
      "cell_type": "markdown",
      "source": [
        "Ans. In Python, a string is a sequence of characters enclosed in single, double, or triple quotes, used to represent text. Strings are immutable, meaning once a string is created, it cannot be changed—any operation that appears to modify a string actually creates a new one. In contrast, a list is a mutable sequence of elements, which can include different data types such as numbers, strings, or even other lists. Lists allow for modification, such as adding, removing, or changing elements, while strings do not. Although both strings and lists support indexing, slicing, and iteration, the key differences lie in mutability and content type—strings are fixed and hold only characters, while lists are flexible and can hold any data type."
      ],
      "metadata": {
        "id": "oh3BVx7w2z5t"
      }
    },
    {
      "cell_type": "markdown",
      "source": [
        "7. How do tuples ensure data integrity in Python?"
      ],
      "metadata": {
        "id": "iNfmG9wM2-Gc"
      }
    },
    {
      "cell_type": "markdown",
      "source": [
        "Ans. Tuples ensure data integrity in Python because they are immutable, meaning once they are created, their contents cannot be modified. This property guarantees that the data remains consistent throughout the program. Since tuples cannot be changed, they are often used for storing fixed collections of values that should not be altered, making them ideal for representing things like coordinates, database records, or configuration data where integrity is important."
      ],
      "metadata": {
        "id": "kpl9pap73PsJ"
      }
    },
    {
      "cell_type": "markdown",
      "source": [
        "8. What is a hash table, and how does it relate to dictionaries in Python?"
      ],
      "metadata": {
        "id": "zripxr0m3T7t"
      }
    },
    {
      "cell_type": "markdown",
      "source": [
        "Ans. A hash table is a data structure that maps keys to values using a hash function to compute an index into an array of buckets or slots. In Python, dictionaries use a hash table to store key-value pairs. The key is hashed to a unique value, which determines where the value is stored in memory. This enables efficient lookups, insertions, and deletions, typically with constant time complexity, O(1), on average."
      ],
      "metadata": {
        "id": "f8qDDQjg3Zrm"
      }
    },
    {
      "cell_type": "markdown",
      "source": [
        "9. Can lists contain different data types in Python?"
      ],
      "metadata": {
        "id": "Ft16liIU3mJs"
      }
    },
    {
      "cell_type": "markdown",
      "source": [
        "Ans. Yes, lists can contain different data types in Python. A list is a flexible, ordered collection that can hold elements of any data type, including integers, strings, floats, and even other lists or dictionaries. This allows for a diverse set of data to be stored together in a single list, making it a versatile container."
      ],
      "metadata": {
        "id": "9-m7Pi1I3tPg"
      }
    },
    {
      "cell_type": "markdown",
      "source": [
        "10.Explain why strings are immutable in Python."
      ],
      "metadata": {
        "id": "6TybGdWj3xwK"
      }
    },
    {
      "cell_type": "markdown",
      "source": [
        "Ans. Strings are immutable in Python to ensure consistency and efficiency. When a string is created, it is stored in memory, and any attempt to modify it results in the creation of a new string. This immutability helps in optimizations like interning, where identical strings can be stored once in memory to save space, and also ensures that strings are thread-safe and predictable in concurrent programs."
      ],
      "metadata": {
        "id": "ICa_Op483YoI"
      }
    },
    {
      "cell_type": "markdown",
      "source": [
        "11. What advantages do dictionaries offer over lists for certain tasks?"
      ],
      "metadata": {
        "id": "W7n4EQ2q4AdX"
      }
    },
    {
      "cell_type": "markdown",
      "source": [
        "Ans. Dictionaries offer several advantages over lists, particularly when it comes to tasks that require fast lookups, inserts, and deletions. Unlike lists, which require searching through the entire sequence to find an element, dictionaries use a hash table, allowing for average O(1) time complexity for accessing and modifying values based on keys. This makes dictionaries a better choice for tasks where you need to associate specific keys with values and retrieve them efficiently."
      ],
      "metadata": {
        "id": "VSVg9zbX4FOy"
      }
    },
    {
      "cell_type": "markdown",
      "source": [
        "12.Describe a scenario where using a tuple would be preferable over a list."
      ],
      "metadata": {
        "id": "2FF437P24LDD"
      }
    },
    {
      "cell_type": "markdown",
      "source": [
        "Ans.  scenario where using a tuple would be preferable over a list is when you need to store a fixed set of values that should not be modified, such as representing geographic coordinates (latitude, longitude) or storing a pair of values like a name and age. Tuples provide immutability, ensuring that the data remains unchanged, and they are also more memory-efficient compared to lists."
      ],
      "metadata": {
        "id": "Vcd3fGjm4QYh"
      }
    },
    {
      "cell_type": "markdown",
      "source": [
        "13. How do sets handle duplicate values in Python?"
      ],
      "metadata": {
        "id": "lOV0ZZPR4v3n"
      }
    },
    {
      "cell_type": "markdown",
      "source": [
        "Ans. Sets handle duplicate values by automatically removing them. When you try to add a duplicate element to a set, Python will ignore it and ensure that only unique elements are stored. This feature makes sets particularly useful when you want to maintain a collection of distinct values without worrying about duplicates."
      ],
      "metadata": {
        "id": "FyW7rBet4z9a"
      }
    },
    {
      "cell_type": "markdown",
      "source": [
        "14. How does the “in” keyword work differently for lists and dictionaries?"
      ],
      "metadata": {
        "id": "4C3hW5sq4_dX"
      }
    },
    {
      "cell_type": "markdown",
      "source": [
        "Ans. The “in” keyword works differently for lists and dictionaries in that for lists, it checks if the element is present by scanning through each element in the list. This results in a time complexity of O(n), where n is the number of elements in the list. For dictionaries, the \"in\" keyword checks if a key is present in the dictionary, leveraging the hash table's constant-time lookup, resulting in O(1) time complexity on average."
      ],
      "metadata": {
        "id": "9qmkmtsu5HHF"
      }
    },
    {
      "cell_type": "markdown",
      "source": [
        "15. Can you modify the elements of a tuple? Explain why or why not."
      ],
      "metadata": {
        "id": "HmNrg_IK5Lnk"
      }
    },
    {
      "cell_type": "markdown",
      "source": [
        "Ans.You cannot modify the elements of a tuple because tuples are immutable. Once a tuple is created, it is fixed, meaning its elements cannot be changed, added, or removed. This property is designed to protect the integrity of the data and ensure that the tuple remains constant throughout its lifetime. If modification is necessary, a new tuple must be created."
      ],
      "metadata": {
        "id": "0vLYsEQy5WFY"
      }
    },
    {
      "cell_type": "markdown",
      "source": [
        "16.What is a nested dictionary, and give an example of its use case?"
      ],
      "metadata": {
        "id": "Co71R51Z5adN"
      }
    },
    {
      "cell_type": "markdown",
      "source": [
        "Ans. A nested dictionary is a dictionary where the value associated with a key is another dictionary. This allows for hierarchical data representation. For example, you could use a nested dictionary to store student information, where the outer dictionary contains student names as keys and the values are dictionaries with details like age, grades, and address. This structure helps organize complex data in a way that is easy to access and update."
      ],
      "metadata": {
        "id": "iFYtfQsY5gjP"
      }
    },
    {
      "cell_type": "markdown",
      "source": [
        "17. Describe the time complexity of accessing elements in a dictionary."
      ],
      "metadata": {
        "id": "l7sEuv8A5qYC"
      }
    },
    {
      "cell_type": "markdown",
      "source": [
        "Ans. The time complexity of accessing elements in a dictionary is O(1) on average due to the use of a hash table. When you access a dictionary with a key, Python calculates the hash of the key and uses it to locate the corresponding value directly, making dictionary lookups extremely efficient compared to other data structures like lists, which require a linear search."
      ],
      "metadata": {
        "id": "ZEN5OJmZ5u7D"
      }
    },
    {
      "cell_type": "markdown",
      "source": [
        "18. In what situations are lists preferred over dictionaries?"
      ],
      "metadata": {
        "id": "k7dApYUf51qy"
      }
    },
    {
      "cell_type": "markdown",
      "source": [
        "Ans. Lists are preferred over dictionaries in situations where you need an ordered collection of elements and the position of elements is important. Lists maintain the order of elements, and you can access elements by index, making them ideal for tasks that require maintaining a specific sequence of data. Lists are also better suited when you need to iterate through all elements in order without the need for key-based access."
      ],
      "metadata": {
        "id": "4blwd03d6Edv"
      }
    },
    {
      "cell_type": "markdown",
      "source": [
        "19.  Why are dictionaries considered unordered, and how does that affect data retrieval?"
      ],
      "metadata": {
        "id": "bI_uVgab6Iof"
      }
    },
    {
      "cell_type": "markdown",
      "source": [
        "Ans. Dictionaries are considered unordered because the key-value pairs do not maintain a specific order, as they are stored in a hash table where the position of each pair is determined by the hash of the key. This affects data retrieval because, while you can efficiently access values by key, you cannot predict the order of items when iterating through a dictionary. If order matters, you may need to use an ordered dictionary or other data structures like lists."
      ],
      "metadata": {
        "id": "HiszrEy86NH2"
      }
    },
    {
      "cell_type": "markdown",
      "source": [
        "20. Explain the difference between a list and a dictionary in terms of data retrieval."
      ],
      "metadata": {
        "id": "7KGWVTzG6UW4"
      }
    },
    {
      "cell_type": "markdown",
      "source": [
        "Ans. The main difference between a list and a dictionary in terms of data retrieval is that in a list, elements are accessed by their index, which is based on their position in the sequence. In contrast, in a dictionary, elements are accessed by their keys, which can be any immutable data type. This allows dictionaries to offer faster lookups for large datasets since keys are hashed for quick access, while lists require a linear search or direct indexing to retrieve elements."
      ],
      "metadata": {
        "id": "FceDij096aVb"
      }
    },
    {
      "cell_type": "markdown",
      "source": [
        "21.Write a code to create a string with your name and print it."
      ],
      "metadata": {
        "id": "_SCCfpZj6fL6"
      }
    },
    {
      "cell_type": "code",
      "source": [
        "name = \"Your Name\"\n",
        "\n",
        "print(name)\n"
      ],
      "metadata": {
        "colab": {
          "base_uri": "https://localhost:8080/"
        },
        "id": "VmsnBUfT8jUy",
        "outputId": "61637a6b-2038-4ad5-f47a-801ba7490536"
      },
      "execution_count": null,
      "outputs": [
        {
          "output_type": "stream",
          "name": "stdout",
          "text": [
            "Your Name\n"
          ]
        }
      ]
    },
    {
      "cell_type": "markdown",
      "source": [
        "22. Write a code to find the length of the string \"Hello World\"."
      ],
      "metadata": {
        "id": "SFtPyGz08kFC"
      }
    },
    {
      "cell_type": "code",
      "source": [
        "text = \"Hello World\"\n",
        "print(len(text))\n"
      ],
      "metadata": {
        "colab": {
          "base_uri": "https://localhost:8080/"
        },
        "id": "UVLSVqgx8jnu",
        "outputId": "55ac37fe-e7f8-434a-bcbb-54ff478c7070"
      },
      "execution_count": null,
      "outputs": [
        {
          "output_type": "stream",
          "name": "stdout",
          "text": [
            "11\n"
          ]
        }
      ]
    },
    {
      "cell_type": "markdown",
      "source": [
        "23. Write a code to slice the first 3 characters from the string \"Python Programming\"."
      ],
      "metadata": {
        "id": "fUBibozR8oQQ"
      }
    },
    {
      "cell_type": "code",
      "source": [
        "text = \"Python Programming\"\n",
        "print(text[:3])\n"
      ],
      "metadata": {
        "colab": {
          "base_uri": "https://localhost:8080/"
        },
        "id": "NQbZcbDs8s_U",
        "outputId": "182c7880-c101-4614-e826-e566b5692c61"
      },
      "execution_count": null,
      "outputs": [
        {
          "output_type": "stream",
          "name": "stdout",
          "text": [
            "Pyt\n"
          ]
        }
      ]
    },
    {
      "cell_type": "markdown",
      "source": [
        "24. Write a code to convert the string \"hello\" to uppercase."
      ],
      "metadata": {
        "id": "TISN8XYk8toz"
      }
    },
    {
      "cell_type": "code",
      "source": [
        "text = \"hello\"\n",
        "print(text.upper())\n"
      ],
      "metadata": {
        "colab": {
          "base_uri": "https://localhost:8080/"
        },
        "id": "lu3sUOX38zP5",
        "outputId": "47c78f4f-22bb-4f80-bd26-f68b637777b9"
      },
      "execution_count": null,
      "outputs": [
        {
          "output_type": "stream",
          "name": "stdout",
          "text": [
            "HELLO\n"
          ]
        }
      ]
    },
    {
      "cell_type": "markdown",
      "source": [
        "25.Write a code to replace the word \"apple\" with \"orange\" in the string \"I like apple\"."
      ],
      "metadata": {
        "id": "okOzIURv807X"
      }
    },
    {
      "cell_type": "code",
      "source": [
        "text = \"I like apple\"\n",
        "new_text = text.replace(\"apple\", \"orange\")\n",
        "print(new_text)\n"
      ],
      "metadata": {
        "colab": {
          "base_uri": "https://localhost:8080/"
        },
        "id": "ED3Nxq5p8zt1",
        "outputId": "c0326708-fefa-4506-daf0-62f50bb808e3"
      },
      "execution_count": null,
      "outputs": [
        {
          "output_type": "stream",
          "name": "stdout",
          "text": [
            "I like orange\n"
          ]
        }
      ]
    },
    {
      "cell_type": "markdown",
      "source": [
        "26. Write a code to create a list with numbers 1 to 5 and print it."
      ],
      "metadata": {
        "id": "vNyywQjS85ps"
      }
    },
    {
      "cell_type": "code",
      "source": [
        "numbers = [1, 2, 3, 4, 5]\n",
        "print(numbers)\n"
      ],
      "metadata": {
        "colab": {
          "base_uri": "https://localhost:8080/"
        },
        "id": "vXLJg4bb9yyH",
        "outputId": "ebc41472-a774-493b-f1c5-170696834623"
      },
      "execution_count": null,
      "outputs": [
        {
          "output_type": "stream",
          "name": "stdout",
          "text": [
            "[1, 2, 3, 4, 5]\n"
          ]
        }
      ]
    },
    {
      "cell_type": "markdown",
      "source": [
        "27. P Write a code to append the number 10 to the list [1, 2, 3, 4]."
      ],
      "metadata": {
        "id": "gh3WwYdR9yV3"
      }
    },
    {
      "cell_type": "code",
      "source": [
        "numbers = [1, 2, 3, 4]\n",
        "numbers.append(10)\n",
        "print(numbers)\n"
      ],
      "metadata": {
        "colab": {
          "base_uri": "https://localhost:8080/"
        },
        "id": "RBtsb_kK96Cg",
        "outputId": "eef45b4a-bc15-410b-e7a3-b7d3ed786c04"
      },
      "execution_count": null,
      "outputs": [
        {
          "output_type": "stream",
          "name": "stdout",
          "text": [
            "[1, 2, 3, 4, 10]\n"
          ]
        }
      ]
    },
    {
      "cell_type": "markdown",
      "source": [
        "28. Write a code to remove the number 3 from the list [1, 2, 3, 4, 5]."
      ],
      "metadata": {
        "id": "ZiBE8Mfp_uTr"
      }
    },
    {
      "cell_type": "code",
      "source": [
        "numbers = [1, 2, 3, 4, 5]\n",
        "numbers.remove(3)\n",
        "print(numbers)\n"
      ],
      "metadata": {
        "colab": {
          "base_uri": "https://localhost:8080/"
        },
        "id": "VVTK-71J_2SR",
        "outputId": "925225c3-0c39-4902-ee92-4e4887fda62d"
      },
      "execution_count": null,
      "outputs": [
        {
          "output_type": "stream",
          "name": "stdout",
          "text": [
            "[1, 2, 4, 5]\n"
          ]
        }
      ]
    },
    {
      "cell_type": "markdown",
      "source": [
        "29.  Write a code to access the second element in the list ['a', 'b', 'c', 'd']."
      ],
      "metadata": {
        "id": "HSfjzwfX_1ut"
      }
    },
    {
      "cell_type": "code",
      "source": [
        "letters = ['a', 'b', 'c', 'd']\n",
        "print(letters[1])\n"
      ],
      "metadata": {
        "colab": {
          "base_uri": "https://localhost:8080/"
        },
        "id": "2GuE_oVR_1P-",
        "outputId": "f75f488a-ab58-4ec7-e619-73a817f7dbf2"
      },
      "execution_count": null,
      "outputs": [
        {
          "output_type": "stream",
          "name": "stdout",
          "text": [
            "b\n"
          ]
        }
      ]
    },
    {
      "cell_type": "markdown",
      "source": [
        "30. Write a code to reverse the list [10, 20, 30, 40, 50]."
      ],
      "metadata": {
        "id": "5sBXYXsb_7XM"
      }
    },
    {
      "cell_type": "code",
      "source": [
        "numbers = [10, 20, 30, 40, 50]\n",
        "numbers.reverse()\n",
        "print(numbers)\n"
      ],
      "metadata": {
        "colab": {
          "base_uri": "https://localhost:8080/"
        },
        "id": "5SOZ_xrR5ozZ",
        "outputId": "c55b0ef7-799b-47f4-f7b9-60c0a25eeb57"
      },
      "execution_count": null,
      "outputs": [
        {
          "output_type": "stream",
          "name": "stdout",
          "text": [
            "[50, 40, 30, 20, 10]\n"
          ]
        }
      ]
    },
    {
      "cell_type": "markdown",
      "source": [
        "31. Write a code to create a tuple with the elements 100, 200, 300 and print it."
      ],
      "metadata": {
        "id": "pX9XUwxjdxr2"
      }
    },
    {
      "cell_type": "code",
      "source": [
        "my_tuple = (100, 200, 300)\n",
        "print(my_tuple)\n"
      ],
      "metadata": {
        "colab": {
          "base_uri": "https://localhost:8080/"
        },
        "id": "zIISSwahd2XT",
        "outputId": "fd6c4be9-e2d7-4ef4-e260-80aac00b6840"
      },
      "execution_count": 2,
      "outputs": [
        {
          "output_type": "stream",
          "name": "stdout",
          "text": [
            "(100, 200, 300)\n"
          ]
        }
      ]
    },
    {
      "cell_type": "markdown",
      "source": [
        "32.  Write a code to access the second-to-last element of the tuple ('red', 'green', 'blue', 'yellow')."
      ],
      "metadata": {
        "id": "KzR2rRukd-i8"
      }
    },
    {
      "cell_type": "code",
      "source": [
        "colors = ('red', 'green', 'blue', 'yellow')\n",
        "print(colors[-2])\n"
      ],
      "metadata": {
        "colab": {
          "base_uri": "https://localhost:8080/"
        },
        "id": "rU1LTL2Fd3yN",
        "outputId": "3c314762-1581-4ea4-fba2-a6796397858e"
      },
      "execution_count": 3,
      "outputs": [
        {
          "output_type": "stream",
          "name": "stdout",
          "text": [
            "blue\n"
          ]
        }
      ]
    },
    {
      "cell_type": "markdown",
      "source": [
        "33.  Write a code to find the minimum number in the tuple (10, 20, 5, 15)."
      ],
      "metadata": {
        "id": "2piqq87PeCXG"
      }
    },
    {
      "cell_type": "code",
      "source": [
        "numbers = (10, 20, 5, 15)\n",
        "print(min(numbers))\n"
      ],
      "metadata": {
        "colab": {
          "base_uri": "https://localhost:8080/"
        },
        "id": "c0r0oSj4d8Zl",
        "outputId": "d5ceb521-1153-4764-f156-adaa4a52ab41"
      },
      "execution_count": 4,
      "outputs": [
        {
          "output_type": "stream",
          "name": "stdout",
          "text": [
            "5\n"
          ]
        }
      ]
    },
    {
      "cell_type": "markdown",
      "source": [
        "34.Write a code to find the index of the element \"cat\" in the tuple ('dog', 'cat', 'rabbit')."
      ],
      "metadata": {
        "id": "oVSOBcIseID_"
      }
    },
    {
      "cell_type": "code",
      "source": [
        "animals = ('dog', 'cat', 'rabbit')\n",
        "print(animals.index('cat'))\n"
      ],
      "metadata": {
        "colab": {
          "base_uri": "https://localhost:8080/"
        },
        "id": "wWDprHl2eUQh",
        "outputId": "63674bc7-bae5-4577-fbd0-1fa8ca761827"
      },
      "execution_count": 23,
      "outputs": [
        {
          "output_type": "stream",
          "name": "stdout",
          "text": [
            "1\n"
          ]
        }
      ]
    },
    {
      "cell_type": "markdown",
      "source": [
        "35. Write a code to create a tuple containing three different fruits and check if \"kiwi\" is in it."
      ],
      "metadata": {
        "id": "hvueqpDNeVBO"
      }
    },
    {
      "cell_type": "code",
      "source": [
        "fruits = ('apple', 'banana', 'kiwi')\n",
        "print('kiwi' in fruits)\n"
      ],
      "metadata": {
        "colab": {
          "base_uri": "https://localhost:8080/"
        },
        "id": "e3Oc3Rugea4G",
        "outputId": "279b4df0-f2a8-4401-d3ad-f7e1f163022e"
      },
      "execution_count": 22,
      "outputs": [
        {
          "output_type": "stream",
          "name": "stdout",
          "text": [
            "True\n"
          ]
        }
      ]
    },
    {
      "cell_type": "markdown",
      "source": [
        "36.Write a code to create a set with the elements 'a', 'b', 'c' and print it."
      ],
      "metadata": {
        "id": "M71bEKOTebgt"
      }
    },
    {
      "cell_type": "code",
      "source": [
        "my_set = {'a', 'b', 'c'}\n",
        "print(my_set)\n"
      ],
      "metadata": {
        "colab": {
          "base_uri": "https://localhost:8080/"
        },
        "id": "RiPYABg_egS4",
        "outputId": "0099c6d5-2031-46d9-b4a1-b10547fab65b"
      },
      "execution_count": 21,
      "outputs": [
        {
          "output_type": "stream",
          "name": "stdout",
          "text": [
            "{'c', 'a', 'b'}\n"
          ]
        }
      ]
    },
    {
      "cell_type": "markdown",
      "source": [
        "37.Write a code to clear all elements from the set {1, 2, 3, 4, 5}."
      ],
      "metadata": {
        "id": "Ebl06DW9eg0Q"
      }
    },
    {
      "cell_type": "code",
      "source": [
        "my_set = {1, 2, 3, 4, 5}\n",
        "my_set.clear()\n",
        "print(my_set)\n"
      ],
      "metadata": {
        "colab": {
          "base_uri": "https://localhost:8080/"
        },
        "id": "WSRGd5ltekLz",
        "outputId": "f98a5ea0-82cc-4ad9-96f7-4c3260366e2c"
      },
      "execution_count": 20,
      "outputs": [
        {
          "output_type": "stream",
          "name": "stdout",
          "text": [
            "set()\n"
          ]
        }
      ]
    },
    {
      "cell_type": "markdown",
      "source": [
        "38. Write a code to remove the element 4 from the set {1, 2, 3, 4}."
      ],
      "metadata": {
        "id": "hQGkSAPVelNI"
      }
    },
    {
      "cell_type": "code",
      "source": [
        "my_set = {1, 2, 3, 4}\n",
        "my_set.remove(4)\n",
        "print(my_set)\n"
      ],
      "metadata": {
        "colab": {
          "base_uri": "https://localhost:8080/"
        },
        "id": "9dePzZI8e1EG",
        "outputId": "e0a47e1f-dc8b-43d1-f0a2-14a26e44c495"
      },
      "execution_count": 19,
      "outputs": [
        {
          "output_type": "stream",
          "name": "stdout",
          "text": [
            "{1, 2, 3}\n"
          ]
        }
      ]
    },
    {
      "cell_type": "markdown",
      "source": [
        "39.Write a code to find the union of two sets {1, 2, 3} and {3, 4, 5}.\n",
        "\n"
      ],
      "metadata": {
        "id": "YRkwUFAQe3Nr"
      }
    },
    {
      "cell_type": "code",
      "source": [
        "set1 = {1, 2, 3}\n",
        "set2 = {3, 4, 5}\n",
        "union_set = set1.union(set2)\n",
        "print(union_set)\n"
      ],
      "metadata": {
        "colab": {
          "base_uri": "https://localhost:8080/"
        },
        "id": "xXiCSjrTe4jU",
        "outputId": "f978e384-2d9a-47a5-e625-c396eb67d893"
      },
      "execution_count": 18,
      "outputs": [
        {
          "output_type": "stream",
          "name": "stdout",
          "text": [
            "{1, 2, 3, 4, 5}\n"
          ]
        }
      ]
    },
    {
      "cell_type": "markdown",
      "source": [
        "40.Write a code to find the intersection of two sets {1, 2, 3} and {2, 3, 4}."
      ],
      "metadata": {
        "id": "33vJ9b_ge49M"
      }
    },
    {
      "cell_type": "code",
      "source": [
        "set1 = {1, 2, 3}\n",
        "set2 = {2, 3, 4}\n",
        "intersection = set1.intersection(set2)\n",
        "print(intersection)\n"
      ],
      "metadata": {
        "colab": {
          "base_uri": "https://localhost:8080/"
        },
        "id": "G0NkF1X-fAtg",
        "outputId": "e6c212b6-3efb-40b3-fbb0-3d971ffa1b38"
      },
      "execution_count": 17,
      "outputs": [
        {
          "output_type": "stream",
          "name": "stdout",
          "text": [
            "{2, 3}\n"
          ]
        }
      ]
    },
    {
      "cell_type": "markdown",
      "source": [
        "41.Write a code to create a dictionary with the keys \"name\", \"age\", and \"city\", and print it."
      ],
      "metadata": {
        "id": "4JNoqn7MfBV9"
      }
    },
    {
      "cell_type": "code",
      "source": [
        "person = {'name': 'Alice', 'age': 30, 'city': 'New York'}\n",
        "print(person)\n"
      ],
      "metadata": {
        "colab": {
          "base_uri": "https://localhost:8080/"
        },
        "id": "gX6HWx5jfFd4",
        "outputId": "20d4aa41-4fde-4e3a-da65-9b11b32ab320"
      },
      "execution_count": 16,
      "outputs": [
        {
          "output_type": "stream",
          "name": "stdout",
          "text": [
            "{'name': 'Alice', 'age': 30, 'city': 'New York'}\n"
          ]
        }
      ]
    },
    {
      "cell_type": "markdown",
      "source": [
        "42.Write a code to add a new key-value pair \"country\": \"USA\" to the dictionary {'name': 'John', 'age': 25}."
      ],
      "metadata": {
        "id": "J0VEdLm-fIWG"
      }
    },
    {
      "cell_type": "code",
      "source": [
        "person = {'name': 'John', 'age': 25}\n",
        "person['country'] = 'USA'\n",
        "print(person)\n"
      ],
      "metadata": {
        "colab": {
          "base_uri": "https://localhost:8080/"
        },
        "id": "S8-wNST6fMTO",
        "outputId": "2738887e-bd32-40b8-909d-e7495b46d0e4"
      },
      "execution_count": 15,
      "outputs": [
        {
          "output_type": "stream",
          "name": "stdout",
          "text": [
            "{'name': 'John', 'age': 25, 'country': 'USA'}\n"
          ]
        }
      ]
    },
    {
      "cell_type": "markdown",
      "source": [
        "43.Write a code to access the value associated with the key \"name\" in the dictionary {'name': 'Alice', 'age': 30}."
      ],
      "metadata": {
        "id": "RE1TVv3sfNFT"
      }
    },
    {
      "cell_type": "code",
      "source": [
        "person = {'name': 'Alice', 'age': 30}\n",
        "print(person['name'])\n"
      ],
      "metadata": {
        "colab": {
          "base_uri": "https://localhost:8080/"
        },
        "id": "qXJppLrpfQfA",
        "outputId": "c01a9916-ecdf-433d-966e-762aa7e36707"
      },
      "execution_count": 14,
      "outputs": [
        {
          "output_type": "stream",
          "name": "stdout",
          "text": [
            "Alice\n"
          ]
        }
      ]
    },
    {
      "cell_type": "markdown",
      "source": [
        "44.Write a code to remove the key \"age\" from the dictionary {'name': 'Bob', 'age': 22, 'city': 'New York'}."
      ],
      "metadata": {
        "id": "AGxDNPoMfQ8i"
      }
    },
    {
      "cell_type": "code",
      "source": [
        "person = {'name': 'Bob', 'age': 22, 'city': 'New York'}\n",
        "del person['age']\n",
        "print(person)\n"
      ],
      "metadata": {
        "colab": {
          "base_uri": "https://localhost:8080/"
        },
        "id": "SfwWddCcfZw9",
        "outputId": "3f2c9051-a919-484e-97c6-9890045e28f9"
      },
      "execution_count": 13,
      "outputs": [
        {
          "output_type": "stream",
          "name": "stdout",
          "text": [
            "{'name': 'Bob', 'city': 'New York'}\n"
          ]
        }
      ]
    },
    {
      "cell_type": "markdown",
      "source": [
        "45.Write a code to check if the key \"city\" exists in the dictionary {'name': 'Alice', 'city': 'Paris'}."
      ],
      "metadata": {
        "id": "QZ3pRiJcfajl"
      }
    },
    {
      "cell_type": "code",
      "source": [
        "person = {'name': 'Alice', 'city': 'Paris'}\n",
        "print('city' in person)\n"
      ],
      "metadata": {
        "colab": {
          "base_uri": "https://localhost:8080/"
        },
        "id": "qai3sxX9feGK",
        "outputId": "c8ea3f46-a6c6-470a-c77b-47308099a680"
      },
      "execution_count": 12,
      "outputs": [
        {
          "output_type": "stream",
          "name": "stdout",
          "text": [
            "True\n"
          ]
        }
      ]
    },
    {
      "cell_type": "markdown",
      "source": [
        "46.Write a code to create a list, a tuple, and a dictionary, and print them all."
      ],
      "metadata": {
        "id": "5qU2eKOEffEK"
      }
    },
    {
      "cell_type": "code",
      "source": [
        "my_list = [1, 2, 3]\n",
        "my_tuple = (4, 5, 6)\n",
        "my_dict = {'a': 7, 'b': 8}\n",
        "print(my_list)\n",
        "print(my_tuple)\n",
        "print(my_dict)\n"
      ],
      "metadata": {
        "colab": {
          "base_uri": "https://localhost:8080/"
        },
        "id": "Ua6POYAjf2X5",
        "outputId": "5d29334b-95db-49bc-845d-b8e10cf93ff0"
      },
      "execution_count": 6,
      "outputs": [
        {
          "output_type": "stream",
          "name": "stdout",
          "text": [
            "[1, 2, 3]\n",
            "(4, 5, 6)\n",
            "{'a': 7, 'b': 8}\n"
          ]
        }
      ]
    },
    {
      "cell_type": "markdown",
      "source": [
        "47.Write a code to create a list of 5 random numbers between 1 and 100, sort it in ascending order, and print the\n",
        "result.(replaced)."
      ],
      "metadata": {
        "id": "qzvdKK11f279"
      }
    },
    {
      "cell_type": "code",
      "source": [
        "import random\n",
        "numbers = random.sample(range(1, 101), 5)\n",
        "numbers.sort()\n",
        "print(numbers)\n"
      ],
      "metadata": {
        "colab": {
          "base_uri": "https://localhost:8080/"
        },
        "id": "7hivCYZKf7Ex",
        "outputId": "c30aadcc-7e20-45ac-e261-eff5e905503d"
      },
      "execution_count": 10,
      "outputs": [
        {
          "output_type": "stream",
          "name": "stdout",
          "text": [
            "[17, 53, 59, 74, 87]\n"
          ]
        }
      ]
    },
    {
      "cell_type": "markdown",
      "source": [
        "48.Write a code to create a list with strings and print the element at the third index.\n",
        "\n"
      ],
      "metadata": {
        "id": "9ERXPGvPf7wB"
      }
    },
    {
      "cell_type": "code",
      "source": [
        "words = ['apple', 'banana', 'cherry', 'date', 'elderberry']\n",
        "print(words[3])\n"
      ],
      "metadata": {
        "colab": {
          "base_uri": "https://localhost:8080/"
        },
        "id": "n7vlSzjqf-rS",
        "outputId": "8f37823d-8b3d-4ec0-9d7b-ee8d3ff94ef7"
      },
      "execution_count": 9,
      "outputs": [
        {
          "output_type": "stream",
          "name": "stdout",
          "text": [
            "date\n"
          ]
        }
      ]
    },
    {
      "cell_type": "markdown",
      "source": [
        "49.Write a code to combine two dictionaries into one and print the result.\n",
        "\n"
      ],
      "metadata": {
        "id": "vXgT07nef_aT"
      }
    },
    {
      "cell_type": "code",
      "source": [
        "dict1 = {'a': 1, 'b': 2}\n",
        "dict2 = {'c': 3, 'd': 4}\n",
        "combined = {**dict1, **dict2}\n",
        "print(combined)\n"
      ],
      "metadata": {
        "colab": {
          "base_uri": "https://localhost:8080/"
        },
        "id": "UslPKUTEgDe0",
        "outputId": "90c65848-3fe5-4daa-fa29-55687b2f7d6a"
      },
      "execution_count": 8,
      "outputs": [
        {
          "output_type": "stream",
          "name": "stdout",
          "text": [
            "{'a': 1, 'b': 2, 'c': 3, 'd': 4}\n"
          ]
        }
      ]
    },
    {
      "cell_type": "markdown",
      "source": [
        "50.Write a code to convert a list of strings into a set."
      ],
      "metadata": {
        "id": "t47h7t-ogEUg"
      }
    },
    {
      "cell_type": "code",
      "source": [
        "string_list = ['apple', 'banana', 'cherry']\n",
        "string_set = set(string_list)\n",
        "print(string_set)\n"
      ],
      "metadata": {
        "colab": {
          "base_uri": "https://localhost:8080/"
        },
        "id": "TyEtlxWtgJzW",
        "outputId": "4d3bbdd8-6cef-4011-b3d0-2e8e7701dd02"
      },
      "execution_count": 7,
      "outputs": [
        {
          "output_type": "stream",
          "name": "stdout",
          "text": [
            "{'cherry', 'apple', 'banana'}\n"
          ]
        }
      ]
    }
  ]
}